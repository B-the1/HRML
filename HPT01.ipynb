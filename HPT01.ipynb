{
 "cells": [
  {
   "cell_type": "code",
   "execution_count": 1,
   "id": "b1810052-69da-4492-89dd-80c3e3fadcfb",
   "metadata": {},
   "outputs": [],
   "source": [
    "import numpy as np\n",
    "import pandas as pd"
   ]
  },
  {
   "cell_type": "code",
   "execution_count": 2,
   "id": "4494285e-d315-4abf-86f7-082fefd838a6",
   "metadata": {},
   "outputs": [],
   "source": [
    "import matplotlib.pyplot as plt\n",
    "import seaborn as sns"
   ]
  },
  {
   "cell_type": "code",
   "execution_count": 3,
   "id": "0bbdd2b5-b5fd-4943-adc8-afa3f25429af",
   "metadata": {},
   "outputs": [],
   "source": [
    "d_f = pd.read_csv('Book-01.csv')"
   ]
  },
  {
   "cell_type": "code",
   "execution_count": 4,
   "id": "bd062840-5aa4-405a-8632-2482cecace43",
   "metadata": {},
   "outputs": [],
   "source": [
    "X = d_f[['Age','Job Level','Monthly Income', 'Performance Rating' ,'Total Working Years']]\n",
    "y=  d_f['Performance Rating']"
   ]
  },
  {
   "cell_type": "code",
   "execution_count": 5,
   "id": "5b59c462-5223-40d3-80da-0b2757729f5f",
   "metadata": {},
   "outputs": [],
   "source": [
    "# import regression algorithms\n",
    "from sklearn.linear_model import LinearRegression\n",
    "from sklearn.svm import SVR\n",
    "from sklearn.tree import DecisionTreeRegressor\n",
    "from sklearn.ensemble import RandomForestRegressor\n",
    "from sklearn.neighbors import KNeighborsRegressor\n",
    "from sklearn.ensemble import GradientBoostingRegressor\n",
    "from sklearn.ensemble import AdaBoostRegressor"
   ]
  },
  {
   "cell_type": "code",
   "execution_count": 6,
   "id": "1b23048c-d233-4076-975a-8d18f38ac841",
   "metadata": {},
   "outputs": [],
   "source": [
    "models = { \n",
    "          'LinearRegression' : (LinearRegression(), {}),\n",
    "          'SVR' : (SVR(), {'kernel': ['rbf', 'poly', 'sigmoid']}),\n",
    "          'DecisionTreeRegressor' : (DecisionTreeRegressor(), {'max_depth': [None, 5, 10]}),\n",
    "          'RandomForestRegressor' : (RandomForestRegressor(), {'n_estimators': [10, 100]}),\n",
    "          'KNeighborsRegressor' : (KNeighborsRegressor(), {'n_neighbors': np.arange(3, 100, 2)}),\n",
    "          'GradientBoostingRegressor' : (GradientBoostingRegressor(), {'n_estimators': [10, 100]}),\n",
    "            'AdaBoostRegressor':(AdaBoostRegressor(),{'n_estimators': [50, 100]}),\n",
    "          }"
   ]
  },
  {
   "cell_type": "code",
   "execution_count": 7,
   "id": "43fa7b86-5184-41d0-bec7-96a77e481aba",
   "metadata": {},
   "outputs": [],
   "source": [
    "#import grid search cv for cross validation\n",
    "from sklearn.model_selection import GridSearchCV"
   ]
  },
  {
   "cell_type": "code",
   "execution_count": 8,
   "id": "2874a406-6f72-4e31-a526-7a9059e98088",
   "metadata": {},
   "outputs": [],
   "source": [
    "from sklearn.model_selection import train_test_split\n",
    "X_train, X_test, y_train, y_test = train_test_split(X, y, test_size=0.2, random_state=42)"
   ]
  },
  {
   "cell_type": "code",
   "execution_count": 9,
   "id": "f3877943-de4c-444b-b89a-5cc1868009b7",
   "metadata": {},
   "outputs": [],
   "source": [
    "from sklearn.metrics import mean_squared_error, mean_absolute_error, r2_score"
   ]
  },
  {
   "cell_type": "code",
   "execution_count": 10,
   "id": "db9dd23f-fd1d-4342-a80d-da250e7cd5c2",
   "metadata": {},
   "outputs": [
    {
     "name": "stdout",
     "output_type": "stream",
     "text": [
      "LinearRegression MSE:  5.43348072473656e-32\n",
      "LinearRegression R2:  1.0\n",
      "LinearRegression MAE:  1.1933009380324813e-16\n",
      "\n",
      "\n",
      "SVR MSE:  0.11069870336289428\n",
      "SVR R2:  -0.0062417839809789655\n",
      "SVR MAE:  0.2005088253679358\n",
      "\n",
      "\n",
      "DecisionTreeRegressor MSE:  0.0\n",
      "DecisionTreeRegressor R2:  1.0\n",
      "DecisionTreeRegressor MAE:  0.0\n",
      "\n",
      "\n",
      "RandomForestRegressor MSE:  0.0\n",
      "RandomForestRegressor R2:  1.0\n",
      "RandomForestRegressor MAE:  0.0\n",
      "\n",
      "\n",
      "KNeighborsRegressor MSE:  0.11407207511103615\n",
      "KNeighborsRegressor R2:  -0.03690544581948907\n",
      "KNeighborsRegressor MAE:  0.2464096749811035\n",
      "\n",
      "\n",
      "GradientBoostingRegressor MSE:  7.847190001103843e-11\n",
      "GradientBoostingRegressor R2:  0.9999999992866971\n",
      "GradientBoostingRegressor MAE:  6.537098414345793e-06\n",
      "\n",
      "\n",
      "AdaBoostRegressor MSE:  0.0\n",
      "AdaBoostRegressor R2:  1.0\n",
      "AdaBoostRegressor MAE:  0.0\n",
      "\n",
      "\n"
     ]
    }
   ],
   "source": [
    "for name, (model, params) in models.items():\n",
    "    # create a pipline\n",
    "    pipeline = GridSearchCV(model, params, cv=5)\n",
    "    \n",
    "    # fit the pipeline\n",
    "    pipeline.fit(X_train, y_train)\n",
    "    \n",
    "    # make prediction from each model\n",
    "    y_pred = pipeline.predict(X_test)\n",
    "    \n",
    "      \n",
    "    # print the performing metric\n",
    "    print(name, 'MSE: ', mean_squared_error(y_test, y_pred))\n",
    "    print(name, 'R2: ', r2_score(y_test, y_pred))\n",
    "    print(name, 'MAE: ', mean_absolute_error(y_test, y_pred))\n",
    "    print('\\n')"
   ]
  },
  {
   "cell_type": "code",
   "execution_count": null,
   "id": "b1550147-e194-49e9-93f8-ac447db9c264",
   "metadata": {},
   "outputs": [],
   "source": []
  }
 ],
 "metadata": {
  "kernelspec": {
   "display_name": "Python 3 (ipykernel)",
   "language": "python",
   "name": "python3"
  },
  "language_info": {
   "codemirror_mode": {
    "name": "ipython",
    "version": 3
   },
   "file_extension": ".py",
   "mimetype": "text/x-python",
   "name": "python",
   "nbconvert_exporter": "python",
   "pygments_lexer": "ipython3",
   "version": "3.12.7"
  }
 },
 "nbformat": 4,
 "nbformat_minor": 5
}
