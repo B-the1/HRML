{
 "cells": [
  {
   "cell_type": "code",
   "execution_count": 1,
   "id": "b6628a2f-1532-4d76-85aa-297d4e8dca6b",
   "metadata": {},
   "outputs": [],
   "source": [
    "import numpy as np\n",
    "import pandas as pd\n",
    "import matplotlib.pyplot as plt\n",
    "import seaborn as sns"
   ]
  },
  {
   "cell_type": "code",
   "execution_count": 2,
   "id": "8d83142c-3607-4357-81ca-d7d86c76d31c",
   "metadata": {},
   "outputs": [],
   "source": [
    "d_f = pd.read_csv('Book-01.csv')"
   ]
  },
  {
   "cell_type": "code",
   "execution_count": 3,
   "id": "cb099fc6-af43-4e0b-8a31-d799e214ca2f",
   "metadata": {},
   "outputs": [],
   "source": [
    "df = d_f[['Age','Job Level','Monthly Income', 'Performance Rating' ,'Total Working Years']]"
   ]
  },
  {
   "cell_type": "code",
   "execution_count": 4,
   "id": "b2ffb634-b5ff-4ea0-84ad-d6222361913c",
   "metadata": {},
   "outputs": [],
   "source": [
    "X = df.drop('Performance Rating',axis=1)\n",
    "y=df['Performance Rating']"
   ]
  },
  {
   "cell_type": "code",
   "execution_count": 5,
   "id": "847da95c-3208-4ddf-99d8-bb06fac15734",
   "metadata": {},
   "outputs": [],
   "source": [
    "from sklearn.model_selection import train_test_split\n",
    "X_train , X_test , y_train , y_test = train_test_split(X,y,test_size=0.2)"
   ]
  },
  {
   "cell_type": "code",
   "execution_count": 6,
   "id": "16c75d5f-0806-461f-84dd-cb4454b62c0e",
   "metadata": {},
   "outputs": [],
   "source": [
    "from xgboost import XGBRegressor"
   ]
  },
  {
   "cell_type": "code",
   "execution_count": 7,
   "id": "8d8ab3df-b722-4c93-a15d-4b5dc4f8c368",
   "metadata": {},
   "outputs": [],
   "source": [
    "from sklearn.metrics import mean_squared_error, mean_absolute_error, r2_score"
   ]
  },
  {
   "cell_type": "code",
   "execution_count": 8,
   "id": "20613a31-04e8-48bc-8ad9-0778d32723fc",
   "metadata": {},
   "outputs": [],
   "source": [
    "model_reg = XGBRegressor()\n",
    "model_reg.fit(X_train, y_train)\n",
    "y_pred = model_reg.predict(X_test)"
   ]
  },
  {
   "cell_type": "code",
   "execution_count": 9,
   "id": "a75f882d-c42a-4c49-a549-0110f57cc60a",
   "metadata": {},
   "outputs": [
    {
     "name": "stdout",
     "output_type": "stream",
     "text": [
      "mean squared error:  0.16750627622951852\n",
      "mean absolute error:  0.2700505986505625\n",
      "r2 score:  -0.2921527624130249\n",
      "root mean squared error:  0.4092753061565265\n"
     ]
    }
   ],
   "source": [
    "print('mean squared error: ', mean_squared_error(y_test, y_pred))\n",
    "print('mean absolute error: ', mean_absolute_error(y_test, y_pred))\n",
    "print('r2 score: ', r2_score(y_test, y_pred))\n",
    "print('root mean squared error: ', np.sqrt(mean_squared_error(y_test, y_pred)))"
   ]
  },
  {
   "cell_type": "code",
   "execution_count": null,
   "id": "b0a45648-6110-49d0-ab19-bb9641acd67a",
   "metadata": {},
   "outputs": [],
   "source": []
  }
 ],
 "metadata": {
  "kernelspec": {
   "display_name": "Python 3 (ipykernel)",
   "language": "python",
   "name": "python3"
  },
  "language_info": {
   "codemirror_mode": {
    "name": "ipython",
    "version": 3
   },
   "file_extension": ".py",
   "mimetype": "text/x-python",
   "name": "python",
   "nbconvert_exporter": "python",
   "pygments_lexer": "ipython3",
   "version": "3.12.7"
  }
 },
 "nbformat": 4,
 "nbformat_minor": 5
}
