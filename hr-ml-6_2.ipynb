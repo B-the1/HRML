{
 "cells": [
  {
   "cell_type": "code",
   "execution_count": 1,
   "id": "749ef14a-0dc0-4bfd-a382-c03a7c54d056",
   "metadata": {},
   "outputs": [],
   "source": [
    "import numpy as np\n",
    "import pandas as pd"
   ]
  },
  {
   "cell_type": "code",
   "execution_count": 2,
   "id": "04238d10-e919-478c-a6e2-971e94f83efa",
   "metadata": {},
   "outputs": [],
   "source": [
    "import matplotlib.pyplot as plt\n",
    "import seaborn as sns"
   ]
  },
  {
   "cell_type": "code",
   "execution_count": 3,
   "id": "0bd794ff-0fb2-4d84-b866-5c836e90246a",
   "metadata": {},
   "outputs": [],
   "source": [
    "d_f = pd.read_csv('Book-01.csv')"
   ]
  },
  {
   "cell_type": "code",
   "execution_count": 4,
   "id": "75e7366b-d2bb-4cd2-ad3d-fbcf75b7f15b",
   "metadata": {},
   "outputs": [],
   "source": [
    "df = d_f[['Age','Job Level','Monthly Income', 'Performance Rating' ,'Total Working Years']]"
   ]
  },
  {
   "cell_type": "code",
   "execution_count": 5,
   "id": "6cfd373c-5c3d-4e9b-b5f9-2431a504ee58",
   "metadata": {},
   "outputs": [],
   "source": [
    "X = df.drop('Performance Rating',axis=1)\n",
    "y=df['Performance Rating']"
   ]
  },
  {
   "cell_type": "code",
   "execution_count": 6,
   "id": "fb127a49-332c-4687-ae6c-054b58d95a79",
   "metadata": {},
   "outputs": [],
   "source": [
    "from sklearn.model_selection import train_test_split"
   ]
  },
  {
   "cell_type": "code",
   "execution_count": 7,
   "id": "3b225e72-9c6a-41fe-8e48-bd5b63eec8c9",
   "metadata": {},
   "outputs": [],
   "source": [
    "X_train , X_test , y_train , y_test = train_test_split(X,y,test_size=0.2)"
   ]
  },
  {
   "cell_type": "code",
   "execution_count": 8,
   "id": "6fa10bc4-445a-485d-a584-6d0bef087e4b",
   "metadata": {},
   "outputs": [],
   "source": [
    "from sklearn.ensemble import RandomForestRegressor"
   ]
  },
  {
   "cell_type": "code",
   "execution_count": 9,
   "id": "b6ab310b-22a6-4bdf-a7ff-eb17c24c7ebb",
   "metadata": {},
   "outputs": [],
   "source": [
    "from sklearn.metrics import mean_squared_error, mean_absolute_error, r2_score"
   ]
  },
  {
   "cell_type": "code",
   "execution_count": 10,
   "id": "d64198c8-16f9-49cf-8c20-d0aa6b42de42",
   "metadata": {},
   "outputs": [],
   "source": [
    "model_reg = RandomForestRegressor()\n",
    "model_reg.fit(X_train, y_train)\n",
    "y_pred = model_reg.predict(X_test)"
   ]
  },
  {
   "cell_type": "code",
   "execution_count": 11,
   "id": "005eeec7-d98c-4747-abbc-de1ea4a9a10d",
   "metadata": {},
   "outputs": [
    {
     "name": "stdout",
     "output_type": "stream",
     "text": [
      "mean squared error:  0.14436292517006802\n",
      "mean absolute error:  0.2652040816326531\n",
      "r2 score:  -0.2547163197586726\n",
      "root mean squared error:  0.37995121419738614\n"
     ]
    }
   ],
   "source": [
    "print('mean squared error: ', mean_squared_error(y_test, y_pred))\n",
    "print('mean absolute error: ', mean_absolute_error(y_test, y_pred))\n",
    "print('r2 score: ', r2_score(y_test, y_pred))\n",
    "print('root mean squared error: ', np.sqrt(mean_squared_error(y_test, y_pred)))"
   ]
  },
  {
   "cell_type": "code",
   "execution_count": null,
   "id": "2641b508-5073-4beb-9dcf-0507c76e6c70",
   "metadata": {},
   "outputs": [],
   "source": []
  }
 ],
 "metadata": {
  "kernelspec": {
   "display_name": "Python 3 (ipykernel)",
   "language": "python",
   "name": "python3"
  },
  "language_info": {
   "codemirror_mode": {
    "name": "ipython",
    "version": 3
   },
   "file_extension": ".py",
   "mimetype": "text/x-python",
   "name": "python",
   "nbconvert_exporter": "python",
   "pygments_lexer": "ipython3",
   "version": "3.12.7"
  }
 },
 "nbformat": 4,
 "nbformat_minor": 5
}
