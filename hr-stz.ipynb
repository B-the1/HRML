{
 "cells": [
  {
   "cell_type": "code",
   "execution_count": 1,
   "id": "28e5b419-3acb-4646-860c-6463fe497eb4",
   "metadata": {},
   "outputs": [],
   "source": [
    "# improt libraries\n",
    "import pandas as pd\n",
    "import numpy as np\n",
    "import seaborn as sns\n",
    "from scipy import stats"
   ]
  },
  {
   "cell_type": "code",
   "execution_count": 2,
   "id": "8a2bbb83-3cae-4cb5-8123-5bc6da74d02e",
   "metadata": {},
   "outputs": [],
   "source": [
    "d_f = pd.read_csv('Book-01.csv')"
   ]
  },
  {
   "cell_type": "code",
   "execution_count": 3,
   "id": "ccb6aca9-142e-4eb7-a670-76b67978b8c8",
   "metadata": {},
   "outputs": [
    {
     "data": {
      "text/plain": [
       "Index(['Attrition', 'Business Travel', 'CF_age band', 'CF_attrition label',\n",
       "       'Department', 'Education Field', 'Employee Number', 'Gender',\n",
       "       'Job Role', 'Marital Status', 'Over Time', 'Training Times Last Year',\n",
       "       'Age', 'CF_attrition count', 'CF_attrition rate', 'CF_current Employee',\n",
       "       'Daily Rate', 'Distance From Home', 'Education',\n",
       "       'Environment Satisfaction', 'Hourly Rate', 'Job Involvement',\n",
       "       'Job Level', 'Job Satisfaction', 'Monthly Income', 'Monthly Rate',\n",
       "       'Num Companies Worked', 'Percent Salary Hike', 'Performance Rating',\n",
       "       'Relationship Satisfaction', 'Standard Hours', 'Stock Option Level',\n",
       "       'Total Working Years', 'Work Life Balance', 'Years At Company',\n",
       "       'Years In Current Role', 'Years Since Last Promotion',\n",
       "       'Years With Curr Manager'],\n",
       "      dtype='object')"
      ]
     },
     "execution_count": 3,
     "metadata": {},
     "output_type": "execute_result"
    }
   ],
   "source": [
    "d_f.columns"
   ]
  },
  {
   "cell_type": "code",
   "execution_count": 4,
   "id": "feaa112f-8b64-4593-a43f-fcc71c7ac89a",
   "metadata": {},
   "outputs": [
    {
     "data": {
      "text/html": [
       "<div>\n",
       "<style scoped>\n",
       "    .dataframe tbody tr th:only-of-type {\n",
       "        vertical-align: middle;\n",
       "    }\n",
       "\n",
       "    .dataframe tbody tr th {\n",
       "        vertical-align: top;\n",
       "    }\n",
       "\n",
       "    .dataframe thead th {\n",
       "        text-align: right;\n",
       "    }\n",
       "</style>\n",
       "<table border=\"1\" class=\"dataframe\">\n",
       "  <thead>\n",
       "    <tr style=\"text-align: right;\">\n",
       "      <th></th>\n",
       "      <th>Performance Rating</th>\n",
       "      <th>Age</th>\n",
       "      <th>Distance From Home</th>\n",
       "      <th>Monthly Income</th>\n",
       "      <th>Job Involvement</th>\n",
       "      <th>Environment Satisfaction</th>\n",
       "    </tr>\n",
       "  </thead>\n",
       "  <tbody>\n",
       "    <tr>\n",
       "      <th>count</th>\n",
       "      <td>1470.000000</td>\n",
       "      <td>1470.000000</td>\n",
       "      <td>1470.000000</td>\n",
       "      <td>1470.000000</td>\n",
       "      <td>1470.000000</td>\n",
       "      <td>1470.000000</td>\n",
       "    </tr>\n",
       "    <tr>\n",
       "      <th>mean</th>\n",
       "      <td>3.153741</td>\n",
       "      <td>36.923810</td>\n",
       "      <td>9.192517</td>\n",
       "      <td>6502.931293</td>\n",
       "      <td>2.729932</td>\n",
       "      <td>2.810204</td>\n",
       "    </tr>\n",
       "    <tr>\n",
       "      <th>std</th>\n",
       "      <td>0.360824</td>\n",
       "      <td>9.135373</td>\n",
       "      <td>8.106864</td>\n",
       "      <td>4707.956783</td>\n",
       "      <td>0.711561</td>\n",
       "      <td>1.103879</td>\n",
       "    </tr>\n",
       "    <tr>\n",
       "      <th>min</th>\n",
       "      <td>3.000000</td>\n",
       "      <td>18.000000</td>\n",
       "      <td>1.000000</td>\n",
       "      <td>1009.000000</td>\n",
       "      <td>1.000000</td>\n",
       "      <td>1.000000</td>\n",
       "    </tr>\n",
       "    <tr>\n",
       "      <th>25%</th>\n",
       "      <td>3.000000</td>\n",
       "      <td>30.000000</td>\n",
       "      <td>2.000000</td>\n",
       "      <td>2911.000000</td>\n",
       "      <td>2.000000</td>\n",
       "      <td>2.000000</td>\n",
       "    </tr>\n",
       "    <tr>\n",
       "      <th>50%</th>\n",
       "      <td>3.000000</td>\n",
       "      <td>36.000000</td>\n",
       "      <td>7.000000</td>\n",
       "      <td>4919.000000</td>\n",
       "      <td>3.000000</td>\n",
       "      <td>3.000000</td>\n",
       "    </tr>\n",
       "    <tr>\n",
       "      <th>75%</th>\n",
       "      <td>3.000000</td>\n",
       "      <td>43.000000</td>\n",
       "      <td>14.000000</td>\n",
       "      <td>8379.000000</td>\n",
       "      <td>3.000000</td>\n",
       "      <td>4.000000</td>\n",
       "    </tr>\n",
       "    <tr>\n",
       "      <th>max</th>\n",
       "      <td>4.000000</td>\n",
       "      <td>60.000000</td>\n",
       "      <td>29.000000</td>\n",
       "      <td>19999.000000</td>\n",
       "      <td>4.000000</td>\n",
       "      <td>4.000000</td>\n",
       "    </tr>\n",
       "  </tbody>\n",
       "</table>\n",
       "</div>"
      ],
      "text/plain": [
       "       Performance Rating          Age  Distance From Home  Monthly Income  \\\n",
       "count         1470.000000  1470.000000         1470.000000     1470.000000   \n",
       "mean             3.153741    36.923810            9.192517     6502.931293   \n",
       "std              0.360824     9.135373            8.106864     4707.956783   \n",
       "min              3.000000    18.000000            1.000000     1009.000000   \n",
       "25%              3.000000    30.000000            2.000000     2911.000000   \n",
       "50%              3.000000    36.000000            7.000000     4919.000000   \n",
       "75%              3.000000    43.000000           14.000000     8379.000000   \n",
       "max              4.000000    60.000000           29.000000    19999.000000   \n",
       "\n",
       "       Job Involvement  Environment Satisfaction  \n",
       "count      1470.000000               1470.000000  \n",
       "mean          2.729932                  2.810204  \n",
       "std           0.711561                  1.103879  \n",
       "min           1.000000                  1.000000  \n",
       "25%           2.000000                  2.000000  \n",
       "50%           3.000000                  3.000000  \n",
       "75%           3.000000                  4.000000  \n",
       "max           4.000000                  4.000000  "
      ]
     },
     "execution_count": 4,
     "metadata": {},
     "output_type": "execute_result"
    }
   ],
   "source": [
    "d_f[['Performance Rating','Age','Distance From Home','Monthly Income','Job Involvement','Environment Satisfaction']].describe()"
   ]
  },
  {
   "cell_type": "code",
   "execution_count": 5,
   "id": "dd5243e5-4b0f-45c5-8f1e-04ba6621e5f5",
   "metadata": {},
   "outputs": [],
   "source": [
    "# CHI-2 TEST"
   ]
  },
  {
   "cell_type": "code",
   "execution_count": 6,
   "id": "43a05d6d-35fc-410d-870a-5659d62a1c65",
   "metadata": {},
   "outputs": [
    {
     "data": {
      "text/html": [
       "<div>\n",
       "<style scoped>\n",
       "    .dataframe tbody tr th:only-of-type {\n",
       "        vertical-align: middle;\n",
       "    }\n",
       "\n",
       "    .dataframe tbody tr th {\n",
       "        vertical-align: top;\n",
       "    }\n",
       "\n",
       "    .dataframe thead th {\n",
       "        text-align: right;\n",
       "    }\n",
       "</style>\n",
       "<table border=\"1\" class=\"dataframe\">\n",
       "  <thead>\n",
       "    <tr style=\"text-align: right;\">\n",
       "      <th>Gender</th>\n",
       "      <th>Female</th>\n",
       "      <th>Male</th>\n",
       "    </tr>\n",
       "    <tr>\n",
       "      <th>Attrition</th>\n",
       "      <th></th>\n",
       "      <th></th>\n",
       "    </tr>\n",
       "  </thead>\n",
       "  <tbody>\n",
       "    <tr>\n",
       "      <th>No</th>\n",
       "      <td>501</td>\n",
       "      <td>732</td>\n",
       "    </tr>\n",
       "    <tr>\n",
       "      <th>Yes</th>\n",
       "      <td>87</td>\n",
       "      <td>150</td>\n",
       "    </tr>\n",
       "  </tbody>\n",
       "</table>\n",
       "</div>"
      ],
      "text/plain": [
       "Gender     Female  Male\n",
       "Attrition              \n",
       "No            501   732\n",
       "Yes            87   150"
      ]
     },
     "execution_count": 6,
     "metadata": {},
     "output_type": "execute_result"
    }
   ],
   "source": [
    "contigency_table = pd.crosstab(d_f['Attrition'], d_f['Gender'])\n",
    "contigency_table"
   ]
  },
  {
   "cell_type": "code",
   "execution_count": 7,
   "id": "11131b16-2cc7-4efd-b882-e09e4e1f52fc",
   "metadata": {},
   "outputs": [
    {
     "name": "stdout",
     "output_type": "stream",
     "text": [
      "Chi-square statistic: 1.1169671241970975\n",
      "p-value: 0.29057244902890855\n",
      "Degrees of freedom: 1\n",
      "Expected:\n",
      " [[493.2 739.8]\n",
      " [ 94.8 142.2]]\n"
     ]
    }
   ],
   "source": [
    "# perform chi-square test\n",
    "chi2, p, dof, expected = stats.chi2_contingency(contigency_table)\n",
    "\n",
    "# print the results\n",
    "print('Chi-square statistic:', chi2)\n",
    "print('p-value:', p)\n",
    "print('Degrees of freedom:', dof)\n",
    "print(f\"Expected:\\n {expected}\")"
   ]
  },
  {
   "cell_type": "code",
   "execution_count": 8,
   "id": "8941beac-8b49-4f3d-9427-7b0ddf3604a8",
   "metadata": {},
   "outputs": [
    {
     "name": "stdout",
     "output_type": "stream",
     "text": [
      "Rej the hyp\n"
     ]
    }
   ],
   "source": [
    "if p<0.05:\n",
    "    print(\"Accept the hyp\")\n",
    "else:\n",
    "    print(\"Rej the hyp\")"
   ]
  },
  {
   "cell_type": "code",
   "execution_count": 9,
   "id": "d4d7a0c6-17cd-4dd0-8f94-9fe52a1afbdc",
   "metadata": {},
   "outputs": [
    {
     "name": "stdout",
     "output_type": "stream",
     "text": [
      "p-value: 2.036924313471409e-14, Sample does not look Gaussian/Normally Distributed (reject H0)\n"
     ]
    }
   ],
   "source": [
    "# shapiro Wilk Test \n",
    "statistic, p = stats.shapiro(d_f['Age'])\n",
    "\n",
    "# print the results using if else\n",
    "if p > 0.05:\n",
    "    print(f'p-value: {p}, Sample looks Gaussian/Normally Distributed (fail to reject H0)')\n",
    "else:\n",
    "    print(f'p-value: {p}, Sample does not look Gaussian/Normally Distributed (reject H0)')"
   ]
  },
  {
   "cell_type": "code",
   "execution_count": 10,
   "id": "6038d517-8f7a-4c29-a66b-e82d02c74acd",
   "metadata": {},
   "outputs": [],
   "source": [
    "import statsmodels.api as sm\n",
    "from statsmodels.formula.api import ols\n",
    "import statsmodels.multivariate.manova as manova\n",
    "from scipy.stats import chi2_contingency"
   ]
  },
  {
   "cell_type": "code",
   "execution_count": 11,
   "id": "d3e72ee2-fb6d-4e10-b92a-2bcc6010fde2",
   "metadata": {},
   "outputs": [
    {
     "name": "stdout",
     "output_type": "stream",
     "text": [
      "Marital Status  Divorced  Married  Single\n",
      "Attrition                                \n",
      "No                   294      589     350\n",
      "Yes                   33       84     120\n"
     ]
    }
   ],
   "source": [
    "ct2 = contigency_table = pd.crosstab(d_f['Attrition'],d_f['Marital Status'])\n",
    "print(ct2)"
   ]
  },
  {
   "cell_type": "code",
   "execution_count": 12,
   "id": "642ea92b-6fe8-40a4-aadb-02d107722dad",
   "metadata": {},
   "outputs": [
    {
     "name": "stdout",
     "output_type": "stream",
     "text": [
      "Chi-Squared Statistic: 46.163676540848705\n",
      "P-value: 9.45551106034083e-11\n",
      "Degrees of Freedom: 2\n",
      "Expected: \n",
      " [[274.27959184 564.49591837 394.2244898 ]\n",
      " [ 52.72040816 108.50408163  75.7755102 ]]\n",
      "Reject null hypothesis, there is a significant difference between the groups\n"
     ]
    }
   ],
   "source": [
    "# perform the chi-squared test\n",
    "chi2, p, dof, expected = chi2_contingency(ct2)\n",
    "\n",
    "# output results\n",
    "print(f\"Chi-Squared Statistic: {chi2}\")\n",
    "print(f\"P-value: {p}\")\n",
    "print(f\"Degrees of Freedom: {dof}\")\n",
    "print(\"Expected: \\n\", np.array(expected))\n",
    "\n",
    "# print the results based on if else conditions\n",
    "if p < 0.05:\n",
    "    print(\"Reject null hypothesis, there is a significant difference between the groups\")\n",
    "else:\n",
    "    print(\"Fail to reject null hypothesis, there is no significant difference between the groups \")"
   ]
  },
  {
   "cell_type": "code",
   "execution_count": 13,
   "id": "d902ffab-5862-4118-9157-02d237c8e9ed",
   "metadata": {},
   "outputs": [],
   "source": [
    "# T - test"
   ]
  },
  {
   "cell_type": "code",
   "execution_count": 14,
   "id": "f279fc49-5e9b-4cde-a5e9-06798a142c44",
   "metadata": {},
   "outputs": [
    {
     "name": "stdout",
     "output_type": "stream",
     "text": [
      "Reject null hypothesis, data is not normally distributed\n"
     ]
    }
   ],
   "source": [
    "# shpiro wilk test to see the normality of the data\n",
    "statistic, p = stats.shapiro(d_f['Age'])\n",
    "# print the results based on p value and if else conditions\n",
    "if p < 0.05:\n",
    "    print(\"Reject null hypothesis, data is not normally distributed\")\n",
    "else:\n",
    "    print(\"Fail to reject null hypothesis, data is normally distributed\")"
   ]
  },
  {
   "cell_type": "code",
   "execution_count": 15,
   "id": "6454ff2a-0b61-4ba8-8168-e31998978823",
   "metadata": {},
   "outputs": [
    {
     "data": {
      "text/plain": [
       "<Axes: xlabel='Age', ylabel='Count'>"
      ]
     },
     "execution_count": 15,
     "metadata": {},
     "output_type": "execute_result"
    },
    {
     "data": {
      "image/png": "[encoded data removed]",
      "text/plain": [
       "<Figure size 640x480 with 1 Axes>"
      ]
     },
     "metadata": {},
     "output_type": "display_data"
    }
   ],
   "source": [
    "# graphical Method\n",
    "sns.histplot(data=d_f, x='Age', kde=True)"
   ]
  },
  {
   "cell_type": "code",
   "execution_count": 16,
   "id": "bd2700e5-2f96-461e-adcb-81b2039a139f",
   "metadata": {},
   "outputs": [
    {
     "data": {
      "text/plain": [
       "36.923809523809524"
      ]
     },
     "execution_count": 16,
     "metadata": {},
     "output_type": "execute_result"
    }
   ],
   "source": [
    "d_f['Age'].mean()"
   ]
  },
  {
   "cell_type": "code",
   "execution_count": 17,
   "id": "9f48d629-6a1b-401d-b97a-3fba8f2eb9ab",
   "metadata": {},
   "outputs": [
    {
     "name": "stdout",
     "output_type": "stream",
     "text": [
      "Reject null hypothesis, there is a significant difference between the groups\n"
     ]
    }
   ],
   "source": [
    "statistic, p = stats.ttest_1samp(d_f['Age'], 32)\n",
    "\n",
    "# print the results based on p value and if else conditions\n",
    "if p < 0.05:\n",
    "    print(\"Reject null hypothesis, there is a significant difference between the groups\")\n",
    "else:\n",
    "    print(\"Fail to reject null hypothesis, there is no significant difference between the groups \")"
   ]
  },
  {
   "cell_type": "code",
   "execution_count": 18,
   "id": "3ba77598-2765-4d9e-90a7-f90ede9bcc35",
   "metadata": {},
   "outputs": [],
   "source": [
    "# 2. Two sample independent t-test"
   ]
  },
  {
   "cell_type": "code",
   "execution_count": 19,
   "id": "b4b762b2-1e74-4bdb-8b50-89f7491126a7",
   "metadata": {},
   "outputs": [
    {
     "name": "stdout",
     "output_type": "stream",
     "text": [
      "Fail to reject null hypothesis,because p vaule: 0.16409141231818586, there is not any differences between ages of female and male employees.\n"
     ]
    }
   ],
   "source": [
    "# lets run the two sample t test on ages of male and female from HR db\n",
    "\n",
    "age_male = d_f[d_f['Gender'] == 'Male']['Age']\n",
    "age_female = d_f[d_f['Gender'] == 'Female']['Age']\n",
    "\n",
    "statistic, p = stats.ttest_ind(age_male, age_female)\n",
    "\n",
    "# print the results based on p value and if else conditions\n",
    "if p < 0.05:\n",
    "    print(f\"Reject null hypothesis, because p vaule: {p} , there is a significant difference between ages of male and female employees\")\n",
    "else:\n",
    "    print(f\"Fail to reject null hypothesis,because p vaule: {p}, there is not any differences between ages of female and male employees.\")"
   ]
  },
  {
   "cell_type": "code",
   "execution_count": 20,
   "id": "761c5b12-b81a-4bcf-9df7-1ea97c0c6fe5",
   "metadata": {},
   "outputs": [],
   "source": [
    "# Anova"
   ]
  },
  {
   "cell_type": "code",
   "execution_count": 21,
   "id": "a2cdfe6a-9b9c-45b2-b5e6-4acff53a7cd6",
   "metadata": {},
   "outputs": [],
   "source": [
    "# 1-way Anova"
   ]
  },
  {
   "cell_type": "code",
   "execution_count": 22,
   "id": "9b532fe1-ea79-481a-a2c1-4938718cc1df",
   "metadata": {},
   "outputs": [
    {
     "name": "stdout",
     "output_type": "stream",
     "text": [
      "                 sum_sq      df         F    PR(>F)\n",
      "Gender       161.636735     1.0  1.938049  0.164091\n",
      "Residual  122433.829932  1468.0       NaN       NaN\n",
      "Fail to reject null hypothesis,because p vaule: 0.16409141231816354, there is not any differences between ages of employees in different gender.\n"
     ]
    },
    {
     "name": "stderr",
     "output_type": "stream",
     "text": [
      "C:\\Users\\Bilawal\\AppData\\Local\\Temp\\ipykernel_19920\\3122692430.py:7: FutureWarning: Series.__getitem__ treating keys as positions is deprecated. In a future version, integer keys will always be treated as labels (consistent with DataFrame behavior). To access a value by position, use `ser.iloc[pos]`\n",
      "  if anova_table['PR(>F)'][0] < 0.05:\n",
      "C:\\Users\\Bilawal\\AppData\\Local\\Temp\\ipykernel_19920\\3122692430.py:10: FutureWarning: Series.__getitem__ treating keys as positions is deprecated. In a future version, integer keys will always be treated as labels (consistent with DataFrame behavior). To access a value by position, use `ser.iloc[pos]`\n",
      "  print(f\"Fail to reject null hypothesis,because p vaule: {anova_table['PR(>F)'][0]}, there is not any differences between ages of employees in different gender.\")\n"
     ]
    }
   ],
   "source": [
    "# ANOVa test for age and class\n",
    "model = ols(\"Age ~ Gender\", data=d_f).fit()\n",
    "anova_table = sm.stats.anova_lm(model, typ=2)\n",
    "print(anova_table)\n",
    "\n",
    "# print the results based on p value and if else conditions\n",
    "if anova_table['PR(>F)'][0] < 0.05:\n",
    "    print(f\"Reject null hypothesis, because p vaule: {anova_table['PR(>F)'][0]} , there is a significant difference between ages of employees in different gender.\")\n",
    "else:\n",
    "    print(f\"Fail to reject null hypothesis,because p vaule: {anova_table['PR(>F)'][0]}, there is not any differences between ages of employees in different gender.\")"
   ]
  },
  {
   "cell_type": "code",
   "execution_count": 23,
   "id": "e9efd3a3-1793-4ed9-976f-7bab8ad1b128",
   "metadata": {},
   "outputs": [
    {
     "data": {
      "text/html": [
       "<div>\n",
       "<style scoped>\n",
       "    .dataframe tbody tr th:only-of-type {\n",
       "        vertical-align: middle;\n",
       "    }\n",
       "\n",
       "    .dataframe tbody tr th {\n",
       "        vertical-align: top;\n",
       "    }\n",
       "\n",
       "    .dataframe thead tr th {\n",
       "        text-align: left;\n",
       "    }\n",
       "\n",
       "    .dataframe thead tr:last-of-type th {\n",
       "        text-align: right;\n",
       "    }\n",
       "</style>\n",
       "<table border=\"1\" class=\"dataframe\">\n",
       "  <thead>\n",
       "    <tr>\n",
       "      <th></th>\n",
       "      <th>mean</th>\n",
       "    </tr>\n",
       "    <tr>\n",
       "      <th></th>\n",
       "      <th>Performance Rating</th>\n",
       "    </tr>\n",
       "    <tr>\n",
       "      <th>CF_age band</th>\n",
       "      <th></th>\n",
       "    </tr>\n",
       "  </thead>\n",
       "  <tbody>\n",
       "    <tr>\n",
       "      <th>25 - 34</th>\n",
       "      <td>3.155235</td>\n",
       "    </tr>\n",
       "    <tr>\n",
       "      <th>35 - 44</th>\n",
       "      <td>3.148515</td>\n",
       "    </tr>\n",
       "    <tr>\n",
       "      <th>45 - 54</th>\n",
       "      <td>3.146939</td>\n",
       "    </tr>\n",
       "    <tr>\n",
       "      <th>Over 55</th>\n",
       "      <td>3.188406</td>\n",
       "    </tr>\n",
       "    <tr>\n",
       "      <th>Under 25</th>\n",
       "      <td>3.164948</td>\n",
       "    </tr>\n",
       "  </tbody>\n",
       "</table>\n",
       "</div>"
      ],
      "text/plain": [
       "                          mean\n",
       "            Performance Rating\n",
       "CF_age band                   \n",
       "25 - 34               3.155235\n",
       "35 - 44               3.148515\n",
       "45 - 54               3.146939\n",
       "Over 55               3.188406\n",
       "Under 25              3.164948"
      ]
     },
     "execution_count": 23,
     "metadata": {},
     "output_type": "execute_result"
    }
   ],
   "source": [
    "pd.pivot_table(d_f,index='CF_age band',values='Performance Rating',aggfunc=['mean'])"
   ]
  },
  {
   "cell_type": "code",
   "execution_count": 24,
   "id": "edd6ca66-f5c7-4003-a64d-c1a5ccfd2eb1",
   "metadata": {},
   "outputs": [
    {
     "data": {
      "text/html": [
       "<table class=\"simpletable\">\n",
       "<caption>Multiple Comparison of Means - Tukey HSD, FWER=0.05</caption>\n",
       "<tr>\n",
       "  <th>group1</th>   <th>group2</th>  <th>meandiff</th>  <th>p-adj</th>  <th>lower</th>   <th>upper</th> <th>reject</th>\n",
       "</tr>\n",
       "<tr>\n",
       "  <td>25 - 34</td>  <td>35 - 44</td>  <td>-0.0067</td> <td>0.9982</td> <td>-0.0674</td>  <td>0.054</td>  <td>False</td>\n",
       "</tr>\n",
       "<tr>\n",
       "  <td>25 - 34</td>  <td>45 - 54</td>  <td>-0.0083</td> <td>0.9983</td> <td>-0.084</td>  <td>0.0674</td>  <td>False</td>\n",
       "</tr>\n",
       "<tr>\n",
       "  <td>25 - 34</td>  <td>Over 55</td>  <td>0.0332</td>  <td>0.9521</td> <td>-0.0928</td> <td>0.1591</td>  <td>False</td>\n",
       "</tr>\n",
       "<tr>\n",
       "  <td>25 - 34</td> <td>Under 25</td>  <td>0.0097</td>  <td>0.9992</td> <td>-0.0989</td> <td>0.1183</td>  <td>False</td>\n",
       "</tr>\n",
       "<tr>\n",
       "  <td>35 - 44</td>  <td>45 - 54</td>  <td>-0.0016</td>   <td>1.0</td>  <td>-0.0784</td> <td>0.0752</td>  <td>False</td>\n",
       "</tr>\n",
       "<tr>\n",
       "  <td>35 - 44</td>  <td>Over 55</td>  <td>0.0399</td>  <td>0.9112</td> <td>-0.0867</td> <td>0.1665</td>  <td>False</td>\n",
       "</tr>\n",
       "<tr>\n",
       "  <td>35 - 44</td> <td>Under 25</td>  <td>0.0164</td>   <td>0.994</td> <td>-0.0929</td> <td>0.1258</td>  <td>False</td>\n",
       "</tr>\n",
       "<tr>\n",
       "  <td>45 - 54</td>  <td>Over 55</td>  <td>0.0415</td>  <td>0.9173</td> <td>-0.093</td>  <td>0.1759</td>  <td>False</td>\n",
       "</tr>\n",
       "<tr>\n",
       "  <td>45 - 54</td> <td>Under 25</td>   <td>0.018</td>  <td>0.9938</td> <td>-0.1003</td> <td>0.1364</td>  <td>False</td>\n",
       "</tr>\n",
       "<tr>\n",
       "  <td>Over 55</td> <td>Under 25</td>  <td>-0.0235</td> <td>0.9939</td> <td>-0.1788</td> <td>0.1319</td>  <td>False</td>\n",
       "</tr>\n",
       "</table>"
      ],
      "text/latex": [
       "\\begin{center}\n",
       "\\begin{tabular}{ccccccc}\n",
       "\\toprule\n",
       "\\textbf{group1} & \\textbf{group2} & \\textbf{meandiff} & \\textbf{p-adj} & \\textbf{lower} & \\textbf{upper} & \\textbf{reject}  \\\\\n",
       "\\midrule\n",
       "    25 - 34     &     35 - 44     &      -0.0067      &     0.9982     &    -0.0674     &     0.054      &      False       \\\\\n",
       "    25 - 34     &     45 - 54     &      -0.0083      &     0.9983     &     -0.084     &     0.0674     &      False       \\\\\n",
       "    25 - 34     &     Over 55     &       0.0332      &     0.9521     &    -0.0928     &     0.1591     &      False       \\\\\n",
       "    25 - 34     &     Under 25    &       0.0097      &     0.9992     &    -0.0989     &     0.1183     &      False       \\\\\n",
       "    35 - 44     &     45 - 54     &      -0.0016      &      1.0       &    -0.0784     &     0.0752     &      False       \\\\\n",
       "    35 - 44     &     Over 55     &       0.0399      &     0.9112     &    -0.0867     &     0.1665     &      False       \\\\\n",
       "    35 - 44     &     Under 25    &       0.0164      &     0.994      &    -0.0929     &     0.1258     &      False       \\\\\n",
       "    45 - 54     &     Over 55     &       0.0415      &     0.9173     &     -0.093     &     0.1759     &      False       \\\\\n",
       "    45 - 54     &     Under 25    &       0.018       &     0.9938     &    -0.1003     &     0.1364     &      False       \\\\\n",
       "    Over 55     &     Under 25    &      -0.0235      &     0.9939     &    -0.1788     &     0.1319     &      False       \\\\\n",
       "\\bottomrule\n",
       "\\end{tabular}\n",
       "%\\caption{Multiple Comparison of Means - Tukey HSD, FWER=0.05}\n",
       "\\end{center}"
      ],
      "text/plain": [
       "<class 'statsmodels.iolib.table.SimpleTable'>"
      ]
     },
     "execution_count": 24,
     "metadata": {},
     "output_type": "execute_result"
    }
   ],
   "source": [
    "# Tukey HSD pairwise comparison\n",
    "from statsmodels.stats.multicomp import pairwise_tukeyhsd\n",
    "\n",
    "tukey = pairwise_tukeyhsd(endog=d_f['Performance Rating'], groups=d_f['CF_age band'], alpha=0.05)\n",
    "tukey.summary()"
   ]
  },
  {
   "cell_type": "code",
   "execution_count": 25,
   "id": "0fc1f5aa-ee4e-4692-bfd6-ef5aeeffddfc",
   "metadata": {},
   "outputs": [],
   "source": [
    "# 2-way Anova"
   ]
  },
  {
   "cell_type": "code",
   "execution_count": 26,
   "id": "06a2db3d-0d30-4eda-bb2c-e7ce8d033a26",
   "metadata": {},
   "outputs": [],
   "source": [
    "d_f = d_f.rename(columns={\n",
    "    'Business Travel': 'Business_Travel',\n",
    "    'CF_age band': 'CF_age_band',\n",
    "    'Marital Status':'Marital_Status',\n",
    "    'Performance Rating':'Performance_Rating',\n",
    "    'Education Field':'Education_Field'\n",
    "    })"
   ]
  },
  {
   "cell_type": "code",
   "execution_count": 27,
   "id": "f46e2056-6517-425e-b367-c1de9e158d35",
   "metadata": {},
   "outputs": [
    {
     "name": "stdout",
     "output_type": "stream",
     "text": [
      "                           sum_sq      df         F    PR(>F)\n",
      "Gender                   0.034798     1.0  0.266688  0.605640\n",
      "Marital_Status           0.023537     2.0  0.090195  0.913758\n",
      "Gender:Marital_Status    0.170113     2.0  0.651870  0.521222\n",
      "Residual               191.024037  1464.0       NaN       NaN\n"
     ]
    }
   ],
   "source": [
    "# ANOVa test for age and class\n",
    "# model = ols(\"age ~ pclass + who + pclass:who\", data=df).fit()\n",
    "# or this\n",
    "model = ols(\"Performance_Rating ~ Gender * Marital_Status\", data=d_f).fit()\n",
    "anova_table = sm.stats.anova_lm(model, typ=2)\n",
    "print(anova_table)"
   ]
  },
  {
   "cell_type": "code",
   "execution_count": 28,
   "id": "961a1c64-9096-43c8-9e1b-d821b8c6411b",
   "metadata": {},
   "outputs": [
    {
     "data": {
      "text/plain": [
       "<Axes: xlabel='None-Marital_Status', ylabel='CF_age_band'>"
      ]
     },
     "execution_count": 28,
     "metadata": {},
     "output_type": "execute_result"
    },
    {
     "data": {
      "image/png": "[encoded data removed]",
      "text/plain": [
       "<Figure size 640x480 with 2 Axes>"
      ]
     },
     "metadata": {},
     "output_type": "display_data"
    }
   ],
   "source": [
    "sns.heatmap(pd.pivot_table(d_f,index='CF_age_band',values='Performance_Rating',columns='Marital_Status',aggfunc=['mean']),annot=True)"
   ]
  },
  {
   "cell_type": "code",
   "execution_count": 29,
   "id": "beb6c61d-cf00-47d5-bf51-d72014b88e61",
   "metadata": {},
   "outputs": [
    {
     "data": {
      "text/html": [
       "<table class=\"simpletable\">\n",
       "<caption>Multiple Comparison of Means - Tukey HSD, FWER=0.05</caption>\n",
       "<tr>\n",
       "      <th>group1</th>        <th>group2</th>     <th>meandiff</th>  <th>p-adj</th>  <th>lower</th>   <th>upper</th> <th>reject</th>\n",
       "</tr>\n",
       "<tr>\n",
       "  <td>FemaleDivorced</td> <td>FemaleMarried</td>  <td>0.0104</td>  <td>0.9998</td> <td>-0.1036</td> <td>0.1244</td>  <td>False</td>\n",
       "</tr>\n",
       "<tr>\n",
       "  <td>FemaleDivorced</td> <td>FemaleSingle</td>   <td>-0.0217</td> <td>0.9956</td> <td>-0.1418</td> <td>0.0984</td>  <td>False</td>\n",
       "</tr>\n",
       "<tr>\n",
       "  <td>FemaleDivorced</td> <td>MaleDivorced</td>   <td>-0.0243</td> <td>0.9922</td> <td>-0.1432</td> <td>0.0946</td>  <td>False</td>\n",
       "</tr>\n",
       "<tr>\n",
       "  <td>FemaleDivorced</td>  <td>MaleMarried</td>   <td>-0.0153</td> <td>0.9987</td> <td>-0.1236</td>  <td>0.093</td>  <td>False</td>\n",
       "</tr>\n",
       "<tr>\n",
       "  <td>FemaleDivorced</td>  <td>MaleSingle</td>     <td>-0.0</td>     <td>1.0</td>  <td>-0.1141</td>  <td>0.114</td>  <td>False</td>\n",
       "</tr>\n",
       "<tr>\n",
       "   <td>FemaleMarried</td> <td>FemaleSingle</td>   <td>-0.0321</td> <td>0.9326</td> <td>-0.1282</td> <td>0.0641</td>  <td>False</td>\n",
       "</tr>\n",
       "<tr>\n",
       "   <td>FemaleMarried</td> <td>MaleDivorced</td>   <td>-0.0347</td> <td>0.9023</td> <td>-0.1294</td>  <td>0.06</td>   <td>False</td>\n",
       "</tr>\n",
       "<tr>\n",
       "   <td>FemaleMarried</td>  <td>MaleMarried</td>   <td>-0.0257</td> <td>0.9454</td> <td>-0.1066</td> <td>0.0553</td>  <td>False</td>\n",
       "</tr>\n",
       "<tr>\n",
       "   <td>FemaleMarried</td>  <td>MaleSingle</td>    <td>-0.0104</td> <td>0.9994</td> <td>-0.0989</td>  <td>0.078</td>  <td>False</td>\n",
       "</tr>\n",
       "<tr>\n",
       "   <td>FemaleSingle</td>  <td>MaleDivorced</td>   <td>-0.0026</td>   <td>1.0</td>  <td>-0.1046</td> <td>0.0994</td>  <td>False</td>\n",
       "</tr>\n",
       "<tr>\n",
       "   <td>FemaleSingle</td>   <td>MaleMarried</td>   <td>0.0064</td>    <td>1.0</td>  <td>-0.0829</td> <td>0.0958</td>  <td>False</td>\n",
       "</tr>\n",
       "<tr>\n",
       "   <td>FemaleSingle</td>   <td>MaleSingle</td>    <td>0.0217</td>  <td>0.9878</td> <td>-0.0746</td> <td>0.1179</td>  <td>False</td>\n",
       "</tr>\n",
       "<tr>\n",
       "   <td>MaleDivorced</td>   <td>MaleMarried</td>    <td>0.009</td>  <td>0.9997</td> <td>-0.0788</td> <td>0.0968</td>  <td>False</td>\n",
       "</tr>\n",
       "<tr>\n",
       "   <td>MaleDivorced</td>   <td>MaleSingle</td>    <td>0.0243</td>  <td>0.9782</td> <td>-0.0705</td>  <td>0.119</td>  <td>False</td>\n",
       "</tr>\n",
       "<tr>\n",
       "    <td>MaleMarried</td>   <td>MaleSingle</td>    <td>0.0152</td>  <td>0.9947</td> <td>-0.0658</td> <td>0.0963</td>  <td>False</td>\n",
       "</tr>\n",
       "</table>"
      ],
      "text/latex": [
       "\\begin{center}\n",
       "\\begin{tabular}{ccccccc}\n",
       "\\toprule\n",
       "\\textbf{group1} & \\textbf{group2} & \\textbf{meandiff} & \\textbf{p-adj} & \\textbf{lower} & \\textbf{upper} & \\textbf{reject}  \\\\\n",
       "\\midrule\n",
       " FemaleDivorced &  FemaleMarried  &       0.0104      &     0.9998     &    -0.1036     &     0.1244     &      False       \\\\\n",
       " FemaleDivorced &   FemaleSingle  &      -0.0217      &     0.9956     &    -0.1418     &     0.0984     &      False       \\\\\n",
       " FemaleDivorced &   MaleDivorced  &      -0.0243      &     0.9922     &    -0.1432     &     0.0946     &      False       \\\\\n",
       " FemaleDivorced &   MaleMarried   &      -0.0153      &     0.9987     &    -0.1236     &     0.093      &      False       \\\\\n",
       " FemaleDivorced &    MaleSingle   &        -0.0       &      1.0       &    -0.1141     &     0.114      &      False       \\\\\n",
       " FemaleMarried  &   FemaleSingle  &      -0.0321      &     0.9326     &    -0.1282     &     0.0641     &      False       \\\\\n",
       " FemaleMarried  &   MaleDivorced  &      -0.0347      &     0.9023     &    -0.1294     &      0.06      &      False       \\\\\n",
       " FemaleMarried  &   MaleMarried   &      -0.0257      &     0.9454     &    -0.1066     &     0.0553     &      False       \\\\\n",
       " FemaleMarried  &    MaleSingle   &      -0.0104      &     0.9994     &    -0.0989     &     0.078      &      False       \\\\\n",
       "  FemaleSingle  &   MaleDivorced  &      -0.0026      &      1.0       &    -0.1046     &     0.0994     &      False       \\\\\n",
       "  FemaleSingle  &   MaleMarried   &       0.0064      &      1.0       &    -0.0829     &     0.0958     &      False       \\\\\n",
       "  FemaleSingle  &    MaleSingle   &       0.0217      &     0.9878     &    -0.0746     &     0.1179     &      False       \\\\\n",
       "  MaleDivorced  &   MaleMarried   &       0.009       &     0.9997     &    -0.0788     &     0.0968     &      False       \\\\\n",
       "  MaleDivorced  &    MaleSingle   &       0.0243      &     0.9782     &    -0.0705     &     0.119      &      False       \\\\\n",
       "  MaleMarried   &    MaleSingle   &       0.0152      &     0.9947     &    -0.0658     &     0.0963     &      False       \\\\\n",
       "\\bottomrule\n",
       "\\end{tabular}\n",
       "%\\caption{Multiple Comparison of Means - Tukey HSD, FWER=0.05}\n",
       "\\end{center}"
      ],
      "text/plain": [
       "<class 'statsmodels.iolib.table.SimpleTable'>"
      ]
     },
     "execution_count": 29,
     "metadata": {},
     "output_type": "execute_result"
    }
   ],
   "source": [
    "tukey = pairwise_tukeyhsd(d_f['Performance_Rating'], d_f['Gender'] + d_f['Marital_Status'] , alpha=0.05)\n",
    "tukey.summary()"
   ]
  },
  {
   "cell_type": "code",
   "execution_count": null,
   "id": "a58b57e5-9d3a-4346-90f6-cbc8790fb5ff",
   "metadata": {},
   "outputs": [],
   "source": []
  }
 ],
 "metadata": {
  "kernelspec": {
   "display_name": "Python 3 (ipykernel)",
   "language": "python",
   "name": "python3"
  },
  "language_info": {
   "codemirror_mode": {
    "name": "ipython",
    "version": 3
   },
   "file_extension": ".py",
   "mimetype": "text/x-python",
   "name": "python",
   "nbconvert_exporter": "python",
   "pygments_lexer": "ipython3",
   "version": "3.12.7"
  }
 },
 "nbformat": 4,
 "nbformat_minor": 5
}
