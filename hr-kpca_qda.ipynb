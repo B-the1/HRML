{
 "cells": [
  {
   "cell_type": "code",
   "execution_count": 1,
   "id": "52ed0d61-8691-4071-92c0-eca962d0d740",
   "metadata": {},
   "outputs": [],
   "source": [
    "import numpy as np\n",
    "import pandas as pd"
   ]
  },
  {
   "cell_type": "code",
   "execution_count": 2,
   "id": "a7f2cfd4-5854-438f-a62a-273a8dfa2996",
   "metadata": {},
   "outputs": [],
   "source": [
    "d_f = pd.read_csv('Book-01.csv')"
   ]
  },
  {
   "cell_type": "code",
   "execution_count": 3,
   "id": "9563f68d-66b6-40a3-b244-3f60d9f70c34",
   "metadata": {},
   "outputs": [],
   "source": [
    "df = d_f.select_dtypes(int)"
   ]
  },
  {
   "cell_type": "code",
   "execution_count": 4,
   "id": "06630c4a-54af-4970-9473-ec40b542af4c",
   "metadata": {},
   "outputs": [],
   "source": [
    "X  = df.drop(['Employee Number','CF_attrition rate','CF_current Employee','CF_attrition count'],axis=1)\n",
    "y=df['CF_attrition count']"
   ]
  },
  {
   "cell_type": "code",
   "execution_count": 5,
   "id": "d6f4e9b6-965e-49b8-a7b5-774b06a0ab23",
   "metadata": {},
   "outputs": [],
   "source": [
    "from sklearn.model_selection import train_test_split\n",
    "X_train, X_test, y_train, y_test = train_test_split(X, y, test_size=0.25, random_state=42)"
   ]
  },
  {
   "cell_type": "code",
   "execution_count": 6,
   "id": "403cb329-0271-4da5-ad55-87a91cc34df7",
   "metadata": {},
   "outputs": [],
   "source": [
    "# Importing libraries\n",
    "from sklearn.decomposition import KernelPCA\n",
    "from sklearn.linear_model import LogisticRegression\n",
    "from sklearn.metrics import accuracy_score"
   ]
  },
  {
   "cell_type": "code",
   "execution_count": 7,
   "id": "a78163a9-4278-4992-a879-167eedb3dee9",
   "metadata": {},
   "outputs": [],
   "source": [
    "# Applying K-PCA\n",
    "kpca = KernelPCA(n_components=5)\n",
    "X_train_kpca = kpca.fit_transform(X_train)\n",
    "X_test_kpca = kpca.transform(X_test)"
   ]
  },
  {
   "cell_type": "code",
   "execution_count": 8,
   "id": "35f61b03-7f2b-4e8e-90ec-e4eb2890b285",
   "metadata": {},
   "outputs": [
    {
     "name": "stdout",
     "output_type": "stream",
     "text": [
      "\tK-PCA Accuracy: 86.14%\n"
     ]
    }
   ],
   "source": [
    "# Training Logistic Regression on K-PCA Data\n",
    "model_kpca = LogisticRegression()\n",
    "model_kpca.fit(X_train_kpca, y_train)\n",
    "pred_kpca = model_kpca.predict(X_test_kpca)\n",
    "accuracy_kpca = accuracy_score(y_test, pred_kpca)\n",
    "print(f\"\\tK-PCA Accuracy: {accuracy_kpca * 100:.2f}%\")"
   ]
  },
  {
   "cell_type": "code",
   "execution_count": 9,
   "id": "e0a64dfc-a702-498b-a507-a6fed5cb3ddc",
   "metadata": {},
   "outputs": [],
   "source": [
    "from sklearn.discriminant_analysis import QuadraticDiscriminantAnalysis"
   ]
  },
  {
   "cell_type": "code",
   "execution_count": 10,
   "id": "1860baf7-1cac-48b1-aeb9-7f2b1fc063b1",
   "metadata": {},
   "outputs": [],
   "source": [
    "qda = QuadraticDiscriminantAnalysis()"
   ]
  },
  {
   "cell_type": "code",
   "execution_count": 11,
   "id": "9eb2411f-5510-4260-9ff4-6e379a3b667f",
   "metadata": {},
   "outputs": [
    {
     "name": "stdout",
     "output_type": "stream",
     "text": [
      "\tQDA Accuracy: 85.87%\n"
     ]
    },
    {
     "name": "stderr",
     "output_type": "stream",
     "text": [
      "C:\\ProgramData\\anaconda3\\Lib\\site-packages\\sklearn\\discriminant_analysis.py:947: UserWarning: Variables are collinear\n",
      "  warnings.warn(\"Variables are collinear\")\n"
     ]
    }
   ],
   "source": [
    "X_train_qda = qda.fit(X_train,y_train)\n",
    "y_p_qda = qda.predict(X_test)\n",
    "acc_qda = accuracy_score(y_test, y_p_qda)\n",
    "print(f\"\\tQDA Accuracy: {acc_qda * 100:.2f}%\")"
   ]
  },
  {
   "cell_type": "code",
   "execution_count": null,
   "id": "73078332-ace4-439c-98fd-89636dd7a3e4",
   "metadata": {},
   "outputs": [],
   "source": []
  }
 ],
 "metadata": {
  "kernelspec": {
   "display_name": "Python 3 (ipykernel)",
   "language": "python",
   "name": "python3"
  },
  "language_info": {
   "codemirror_mode": {
    "name": "ipython",
    "version": 3
   },
   "file_extension": ".py",
   "mimetype": "text/x-python",
   "name": "python",
   "nbconvert_exporter": "python",
   "pygments_lexer": "ipython3",
   "version": "3.12.7"
  }
 },
 "nbformat": 4,
 "nbformat_minor": 5
}
