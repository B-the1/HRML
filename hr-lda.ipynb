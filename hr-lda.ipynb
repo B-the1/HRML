{
 "cells": [
  {
   "cell_type": "code",
   "execution_count": 1,
   "id": "36375f19-f411-4909-9aab-ba6b97dcb245",
   "metadata": {},
   "outputs": [],
   "source": [
    "import numpy as np\n",
    "import pandas as pd"
   ]
  },
  {
   "cell_type": "code",
   "execution_count": 2,
   "id": "293c5800-b0fa-4733-af81-8b554686399e",
   "metadata": {},
   "outputs": [],
   "source": [
    "d_f = pd.read_csv('Book-01.csv')"
   ]
  },
  {
   "cell_type": "code",
   "execution_count": 3,
   "id": "8f8476be-6205-4de2-aa00-13b9797a43eb",
   "metadata": {},
   "outputs": [],
   "source": [
    "df = d_f.select_dtypes(int)"
   ]
  },
  {
   "cell_type": "code",
   "execution_count": 4,
   "id": "7de64128-398c-49ec-8070-2fb17e145a86",
   "metadata": {},
   "outputs": [],
   "source": [
    "X  = df.drop(['Employee Number','CF_attrition rate','CF_current Employee','CF_attrition count'],axis=1)\n",
    "y=df['CF_attrition count']"
   ]
  },
  {
   "cell_type": "code",
   "execution_count": 5,
   "id": "c80a5dde-048c-4455-bcbd-476335100e29",
   "metadata": {},
   "outputs": [],
   "source": [
    "from sklearn.model_selection import train_test_split\n",
    "X_train, X_test, y_train, y_test = train_test_split(X, y, test_size=0.25, random_state=42)"
   ]
  },
  {
   "cell_type": "code",
   "execution_count": 6,
   "id": "25dc1ff1-ff1c-482d-b52c-52319136ff2c",
   "metadata": {},
   "outputs": [],
   "source": [
    "from sklearn.linear_model import LogisticRegression\n",
    "from sklearn.metrics import accuracy_score"
   ]
  },
  {
   "cell_type": "code",
   "execution_count": 7,
   "id": "5b6b2c13-a15c-4ab9-a324-72813f90c6a6",
   "metadata": {},
   "outputs": [],
   "source": [
    "from sklearn.discriminant_analysis import LinearDiscriminantAnalysis"
   ]
  },
  {
   "cell_type": "code",
   "execution_count": 8,
   "id": "2de1cc10-c949-4f47-b8ec-69a1c9875819",
   "metadata": {},
   "outputs": [],
   "source": [
    "lda = LinearDiscriminantAnalysis()\n",
    "X_train_lda = lda.fit_transform(X_train, y_train)\n",
    "X_test_lda = lda.transform(X_test)"
   ]
  },
  {
   "cell_type": "code",
   "execution_count": 9,
   "id": "4e7a2a9c-2006-4297-9cce-088a88ff9e94",
   "metadata": {},
   "outputs": [
    {
     "name": "stdout",
     "output_type": "stream",
     "text": [
      "\tLDA Accuracy: 87.23%\n"
     ]
    }
   ],
   "source": [
    "# Training Logistic Regression on LDA Data\n",
    "model_lda = LogisticRegression()\n",
    "model_lda.fit(X_train_lda, y_train)\n",
    "pred_lda = model_lda.predict(X_test_lda)\n",
    "accuracy_lda = accuracy_score(y_test, pred_lda)\n",
    "print(f\"\\tLDA Accuracy: {accuracy_lda * 100:.2f}%\")"
   ]
  },
  {
   "cell_type": "code",
   "execution_count": null,
   "id": "b237b472-7fb3-41cd-abcf-03e180b1ae6c",
   "metadata": {},
   "outputs": [],
   "source": []
  }
 ],
 "metadata": {
  "kernelspec": {
   "display_name": "Python 3 (ipykernel)",
   "language": "python",
   "name": "python3"
  },
  "language_info": {
   "codemirror_mode": {
    "name": "ipython",
    "version": 3
   },
   "file_extension": ".py",
   "mimetype": "text/x-python",
   "name": "python",
   "nbconvert_exporter": "python",
   "pygments_lexer": "ipython3",
   "version": "3.12.7"
  }
 },
 "nbformat": 4,
 "nbformat_minor": 5
}
