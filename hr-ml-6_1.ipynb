{
 "cells": [
  {
   "cell_type": "code",
   "execution_count": 1,
   "id": "38a236d7-4320-4c3b-87e7-f06c4a5c5ed9",
   "metadata": {},
   "outputs": [],
   "source": [
    "import numpy as np\n",
    "import pandas as pd"
   ]
  },
  {
   "cell_type": "code",
   "execution_count": 2,
   "id": "1c481351-d311-4b1d-b0ac-b104069b9000",
   "metadata": {},
   "outputs": [],
   "source": [
    "import matplotlib.pyplot as plt\n",
    "import seaborn as sns"
   ]
  },
  {
   "cell_type": "code",
   "execution_count": 3,
   "id": "7d944925-c6ce-44ea-a1cb-9edffc12bccf",
   "metadata": {},
   "outputs": [],
   "source": [
    "d_f = pd.read_csv('Book-01.csv')"
   ]
  },
  {
   "cell_type": "code",
   "execution_count": 4,
   "id": "5aa53f0a-b218-4e46-8b56-643b0cd37ce0",
   "metadata": {},
   "outputs": [],
   "source": [
    "df = d_f[['Business Travel', 'CF_age band', 'CF_attrition label','Gender','Marital Status']]"
   ]
  },
  {
   "cell_type": "code",
   "execution_count": 5,
   "id": "6a47e69f-12fe-4bc9-8419-1901fcd500b9",
   "metadata": {},
   "outputs": [],
   "source": [
    "def atr_lab(at_lb):\n",
    "  if at_lb == 'Ex-Employees':\n",
    "    return 'Yes'\n",
    "  else:\n",
    "    return 'No'"
   ]
  },
  {
   "cell_type": "code",
   "execution_count": 6,
   "id": "141f1f4f-6c5b-4112-ae8c-4cab13c55a25",
   "metadata": {},
   "outputs": [
    {
     "name": "stderr",
     "output_type": "stream",
     "text": [
      "C:\\Users\\Bilawal\\AppData\\Local\\Temp\\ipykernel_6696\\796825815.py:1: SettingWithCopyWarning: \n",
      "A value is trying to be set on a copy of a slice from a DataFrame.\n",
      "Try using .loc[row_indexer,col_indexer] = value instead\n",
      "\n",
      "See the caveats in the documentation: https://pandas.pydata.org/pandas-docs/stable/user_guide/indexing.html#returning-a-view-versus-a-copy\n",
      "  df['CF_attrition label'] = df['CF_attrition label'].apply(atr_lab)\n"
     ]
    }
   ],
   "source": [
    "df['CF_attrition label'] = df['CF_attrition label'].apply(atr_lab)"
   ]
  },
  {
   "cell_type": "code",
   "execution_count": 7,
   "id": "20fbbf0e-fee8-4c21-9799-d8256bf74d52",
   "metadata": {},
   "outputs": [],
   "source": [
    "from sklearn.preprocessing import LabelEncoder"
   ]
  },
  {
   "cell_type": "code",
   "execution_count": 8,
   "id": "f8360c8e-5ade-4a21-9784-dab3eb0bf871",
   "metadata": {},
   "outputs": [
    {
     "name": "stderr",
     "output_type": "stream",
     "text": [
      "C:\\Users\\Bilawal\\AppData\\Local\\Temp\\ipykernel_6696\\2854025883.py:3: SettingWithCopyWarning: \n",
      "A value is trying to be set on a copy of a slice from a DataFrame.\n",
      "Try using .loc[row_indexer,col_indexer] = value instead\n",
      "\n",
      "See the caveats in the documentation: https://pandas.pydata.org/pandas-docs/stable/user_guide/indexing.html#returning-a-view-versus-a-copy\n",
      "  df[col] = LabelEncoder().fit_transform(df[col])\n",
      "C:\\Users\\Bilawal\\AppData\\Local\\Temp\\ipykernel_6696\\2854025883.py:3: SettingWithCopyWarning: \n",
      "A value is trying to be set on a copy of a slice from a DataFrame.\n",
      "Try using .loc[row_indexer,col_indexer] = value instead\n",
      "\n",
      "See the caveats in the documentation: https://pandas.pydata.org/pandas-docs/stable/user_guide/indexing.html#returning-a-view-versus-a-copy\n",
      "  df[col] = LabelEncoder().fit_transform(df[col])\n",
      "C:\\Users\\Bilawal\\AppData\\Local\\Temp\\ipykernel_6696\\2854025883.py:3: SettingWithCopyWarning: \n",
      "A value is trying to be set on a copy of a slice from a DataFrame.\n",
      "Try using .loc[row_indexer,col_indexer] = value instead\n",
      "\n",
      "See the caveats in the documentation: https://pandas.pydata.org/pandas-docs/stable/user_guide/indexing.html#returning-a-view-versus-a-copy\n",
      "  df[col] = LabelEncoder().fit_transform(df[col])\n",
      "C:\\Users\\Bilawal\\AppData\\Local\\Temp\\ipykernel_6696\\2854025883.py:3: SettingWithCopyWarning: \n",
      "A value is trying to be set on a copy of a slice from a DataFrame.\n",
      "Try using .loc[row_indexer,col_indexer] = value instead\n",
      "\n",
      "See the caveats in the documentation: https://pandas.pydata.org/pandas-docs/stable/user_guide/indexing.html#returning-a-view-versus-a-copy\n",
      "  df[col] = LabelEncoder().fit_transform(df[col])\n",
      "C:\\Users\\Bilawal\\AppData\\Local\\Temp\\ipykernel_6696\\2854025883.py:3: SettingWithCopyWarning: \n",
      "A value is trying to be set on a copy of a slice from a DataFrame.\n",
      "Try using .loc[row_indexer,col_indexer] = value instead\n",
      "\n",
      "See the caveats in the documentation: https://pandas.pydata.org/pandas-docs/stable/user_guide/indexing.html#returning-a-view-versus-a-copy\n",
      "  df[col] = LabelEncoder().fit_transform(df[col])\n"
     ]
    }
   ],
   "source": [
    "for col in df.columns:\n",
    "    if df[col].dtype == 'object' or df[col].dtype.name == 'Category':\n",
    "        df[col] = LabelEncoder().fit_transform(df[col])"
   ]
  },
  {
   "cell_type": "code",
   "execution_count": 10,
   "id": "47436859-70df-46de-962c-6149fa338392",
   "metadata": {},
   "outputs": [],
   "source": [
    "X = X = df.drop('CF_attrition label',axis=1)\n",
    "y = df['CF_attrition label']"
   ]
  },
  {
   "cell_type": "code",
   "execution_count": 9,
   "id": "51a54aae-ec45-4fea-8080-baacd1c1f3da",
   "metadata": {},
   "outputs": [],
   "source": [
    "from sklearn.model_selection import train_test_split"
   ]
  },
  {
   "cell_type": "code",
   "execution_count": 11,
   "id": "ce77d6f2-a0c0-45f2-b31e-1a461a11a92d",
   "metadata": {},
   "outputs": [],
   "source": [
    "X_train , X_test , y_train , y_test = train_test_split(X,y,test_size=0.2)"
   ]
  },
  {
   "cell_type": "code",
   "execution_count": 12,
   "id": "5cc95505-5f5b-49c4-8db7-e0ddf26a6b97",
   "metadata": {},
   "outputs": [],
   "source": [
    "from sklearn.ensemble import RandomForestClassifier"
   ]
  },
  {
   "cell_type": "code",
   "execution_count": 13,
   "id": "8e7725df-1b52-4b58-910c-3e393ef6a2cc",
   "metadata": {},
   "outputs": [],
   "source": [
    "model_cl = RandomForestClassifier(n_estimators=200, random_state=42)\n",
    "model_cl.fit(X_train, y_train)\n",
    "y_pred = model_cl.predict(X_test)"
   ]
  },
  {
   "cell_type": "code",
   "execution_count": 14,
   "id": "9d0bf9a6-201c-4a0a-85db-f070ec92f549",
   "metadata": {},
   "outputs": [],
   "source": [
    "from sklearn.metrics import accuracy_score, confusion_matrix, classification_report"
   ]
  },
  {
   "cell_type": "code",
   "execution_count": 15,
   "id": "82bd8420-724d-4aae-865c-849ecbae0f89",
   "metadata": {},
   "outputs": [
    {
     "name": "stdout",
     "output_type": "stream",
     "text": [
      "accuracy score:  0.8129251700680272\n",
      "confusion matrix:\n",
      " [[236   3]\n",
      " [ 52   3]]\n",
      "classification report:\n",
      "               precision    recall  f1-score   support\n",
      "\n",
      "           0       0.82      0.99      0.90       239\n",
      "           1       0.50      0.05      0.10        55\n",
      "\n",
      "    accuracy                           0.81       294\n",
      "   macro avg       0.66      0.52      0.50       294\n",
      "weighted avg       0.76      0.81      0.75       294\n",
      "\n"
     ]
    }
   ],
   "source": [
    "print('accuracy score: ', accuracy_score(y_test, y_pred))\n",
    "print('confusion matrix:\\n', confusion_matrix(y_test, y_pred))\n",
    "print('classification report:\\n', classification_report(y_test, y_pred))"
   ]
  },
  {
   "cell_type": "code",
   "execution_count": null,
   "id": "dde6101b-22d9-4d36-9959-1101e53c97e9",
   "metadata": {},
   "outputs": [],
   "source": []
  }
 ],
 "metadata": {
  "kernelspec": {
   "display_name": "Python 3 (ipykernel)",
   "language": "python",
   "name": "python3"
  },
  "language_info": {
   "codemirror_mode": {
    "name": "ipython",
    "version": 3
   },
   "file_extension": ".py",
   "mimetype": "text/x-python",
   "name": "python",
   "nbconvert_exporter": "python",
   "pygments_lexer": "ipython3",
   "version": "3.12.7"
  }
 },
 "nbformat": 4,
 "nbformat_minor": 5
}
