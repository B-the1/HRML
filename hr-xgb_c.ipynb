{
 "cells": [
  {
   "cell_type": "code",
   "execution_count": 1,
   "id": "809beb9c-fd99-470c-837f-c2619812a6f3",
   "metadata": {},
   "outputs": [],
   "source": [
    "import numpy as np\n",
    "import pandas as pd\n",
    "import matplotlib.pyplot as plt\n",
    "import seaborn as sns"
   ]
  },
  {
   "cell_type": "code",
   "execution_count": 2,
   "id": "1affe322-8d93-46fc-8e9b-be34a80b1366",
   "metadata": {},
   "outputs": [],
   "source": [
    "import warnings\n",
    "warnings.filterwarnings('ignore')"
   ]
  },
  {
   "cell_type": "code",
   "execution_count": 3,
   "id": "3ac9a758-4749-49c9-922e-666fc80e7c64",
   "metadata": {},
   "outputs": [],
   "source": [
    "d_f = pd.read_csv('Book-01.csv')"
   ]
  },
  {
   "cell_type": "code",
   "execution_count": 4,
   "id": "ba06e1f4-9c52-4790-9d54-a71e3f0b30d8",
   "metadata": {},
   "outputs": [],
   "source": [
    "df = d_f[['Business Travel', 'CF_age band', 'CF_attrition label','Gender','Marital Status']]\n",
    "def atr_lab(at_lb):\n",
    "  if at_lb == 'Ex-Employees':\n",
    "    return 'Yes'\n",
    "  else:\n",
    "    return 'No'\n",
    "df['CF_attrition label'] = df['CF_attrition label'].apply(atr_lab)"
   ]
  },
  {
   "cell_type": "code",
   "execution_count": 5,
   "id": "1e76f687-6028-4887-9e25-e8993a786650",
   "metadata": {},
   "outputs": [],
   "source": [
    "from sklearn.preprocessing import LabelEncoder\n",
    "for col in df.columns:\n",
    "    if df[col].dtype == 'object' or df[col].dtype.name == 'Category':\n",
    "        df[col] = LabelEncoder().fit_transform(df[col])"
   ]
  },
  {
   "cell_type": "code",
   "execution_count": 6,
   "id": "f3122f23-ebc5-4d7c-ae49-a6e00bbd054b",
   "metadata": {},
   "outputs": [],
   "source": [
    "X = X = df.drop('CF_attrition label',axis=1)\n",
    "y = df['CF_attrition label']"
   ]
  },
  {
   "cell_type": "code",
   "execution_count": 7,
   "id": "fa7fb48c-a366-4ecf-b194-7fa9e412fa4b",
   "metadata": {},
   "outputs": [],
   "source": [
    "from sklearn.model_selection import train_test_split\n",
    "X_train , X_test , y_train , y_test = train_test_split(X,y,test_size=0.2)"
   ]
  },
  {
   "cell_type": "code",
   "execution_count": 8,
   "id": "7c620c82-9aa7-458c-b93b-eb695d60c7bd",
   "metadata": {},
   "outputs": [],
   "source": [
    "from xgboost import XGBClassifier"
   ]
  },
  {
   "cell_type": "code",
   "execution_count": 9,
   "id": "4bea612d-8aef-4c78-90d1-ceea1ca8ddb8",
   "metadata": {},
   "outputs": [],
   "source": [
    "model_cl = XGBClassifier()\n",
    "model_cl.fit(X_train, y_train)\n",
    "y_pred = model_cl.predict(X_test)"
   ]
  },
  {
   "cell_type": "code",
   "execution_count": 10,
   "id": "438a23ca-b1f7-450c-bffa-04e00541b392",
   "metadata": {},
   "outputs": [
    {
     "name": "stdout",
     "output_type": "stream",
     "text": [
      "accuracy score:  0.8163265306122449\n",
      "confusion matrix:\n",
      " [[235   3]\n",
      " [ 51   5]]\n",
      "classification report:\n",
      "               precision    recall  f1-score   support\n",
      "\n",
      "           0       0.82      0.99      0.90       238\n",
      "           1       0.62      0.09      0.16        56\n",
      "\n",
      "    accuracy                           0.82       294\n",
      "   macro avg       0.72      0.54      0.53       294\n",
      "weighted avg       0.78      0.82      0.76       294\n",
      "\n"
     ]
    }
   ],
   "source": [
    "from sklearn.metrics import accuracy_score, confusion_matrix, classification_report\n",
    "print('accuracy score: ', accuracy_score(y_test, y_pred))\n",
    "print('confusion matrix:\\n', confusion_matrix(y_test, y_pred))\n",
    "print('classification report:\\n', classification_report(y_test, y_pred))"
   ]
  },
  {
   "cell_type": "code",
   "execution_count": null,
   "id": "3c83bf83-1d41-4799-a0b6-c04b8766e3e9",
   "metadata": {},
   "outputs": [],
   "source": []
  }
 ],
 "metadata": {
  "kernelspec": {
   "display_name": "Python 3 (ipykernel)",
   "language": "python",
   "name": "python3"
  },
  "language_info": {
   "codemirror_mode": {
    "name": "ipython",
    "version": 3
   },
   "file_extension": ".py",
   "mimetype": "text/x-python",
   "name": "python",
   "nbconvert_exporter": "python",
   "pygments_lexer": "ipython3",
   "version": "3.12.7"
  }
 },
 "nbformat": 4,
 "nbformat_minor": 5
}
